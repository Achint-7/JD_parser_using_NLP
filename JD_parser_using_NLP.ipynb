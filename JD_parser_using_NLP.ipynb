{
  "nbformat": 4,
  "nbformat_minor": 0,
  "metadata": {
    "colab": {
      "provenance": []
    },
    "kernelspec": {
      "name": "python3",
      "display_name": "Python 3"
    },
    "language_info": {
      "name": "python"
    }
  },
  "cells": [
    {
      "cell_type": "code",
      "source": [
        "from ML_Pipeline import json_spacy\n",
        "from ML_Pipeline import train_model\n",
        "from ML_Pipeline import predict_model\n",
        "from ML_Pipeline import text_extractor\n",
        "from ML_Pipeline import utils\n",
        "\n",
        "\n",
        "#####First lets create training data out of the tagged data############\n",
        "\n",
        "train= json_spacy.convert_data_to_spacy(r\"F:\\Desktop\\software_engineer_jd_july_15\")\n",
        "\n",
        "#print(train[0])\n",
        "print(\"Done. Converted into spacy format\")\n",
        "\n",
        "print(\"Checking if previously built spacy model exists. If not, we will train a new one\")\n",
        "\n",
        "model=utils.check_existing_model(\"nlp_model\")\n",
        "\n",
        "model=train_model.build_spacy_model(train,model)\n",
        "\n",
        "#test_text=text_extractor.convert_pdf_to_text(\".\\\\Resume_Parser\\\\output\\\\\")\n",
        "\n",
        "\n",
        "predict_model.predict(r\"C:\\Users\\conta\\OneDrive\\Desktop\\Project Pro\\NLP Project to Build a Resume Parser in Python using Spacy\\Resume_Parser_Code_Data\\Resume_Parser_Code_Data\\Resume_Parser\\output\")\n",
        "\n",
        "\n",
        "#mine = text_extractor.convert_pdf_to_text('.\\\\Resume_Parser\\\\input\\\\resumes\\\\resumes')\n",
        "\n",
        "#print(test.head())\n"
      ],
      "metadata": {
        "colab": {
          "base_uri": "https://localhost:8080/",
          "height": 383
        },
        "id": "pV-LqNTJiiGt",
        "outputId": "712ea9c1-7705-4d55-82e0-21c6f312b53a"
      },
      "execution_count": 38,
      "outputs": [
        {
          "output_type": "error",
          "ename": "ModuleNotFoundError",
          "evalue": "No module named 'ML_Pipeline'",
          "traceback": [
            "\u001b[0;31m---------------------------------------------------------------------------\u001b[0m",
            "\u001b[0;31mModuleNotFoundError\u001b[0m                       Traceback (most recent call last)",
            "\u001b[0;32m<ipython-input-38-fdb5596c747d>\u001b[0m in \u001b[0;36m<cell line: 1>\u001b[0;34m()\u001b[0m\n\u001b[0;32m----> 1\u001b[0;31m \u001b[0;32mfrom\u001b[0m \u001b[0mML_Pipeline\u001b[0m \u001b[0;32mimport\u001b[0m \u001b[0mjson_spacy\u001b[0m\u001b[0;34m\u001b[0m\u001b[0;34m\u001b[0m\u001b[0m\n\u001b[0m\u001b[1;32m      2\u001b[0m \u001b[0;32mfrom\u001b[0m \u001b[0mML_Pipeline\u001b[0m \u001b[0;32mimport\u001b[0m \u001b[0mtrain_model\u001b[0m\u001b[0;34m\u001b[0m\u001b[0;34m\u001b[0m\u001b[0m\n\u001b[1;32m      3\u001b[0m \u001b[0;32mfrom\u001b[0m \u001b[0mML_Pipeline\u001b[0m \u001b[0;32mimport\u001b[0m \u001b[0mpredict_model\u001b[0m\u001b[0;34m\u001b[0m\u001b[0;34m\u001b[0m\u001b[0m\n\u001b[1;32m      4\u001b[0m \u001b[0;32mfrom\u001b[0m \u001b[0mML_Pipeline\u001b[0m \u001b[0;32mimport\u001b[0m \u001b[0mtext_extractor\u001b[0m\u001b[0;34m\u001b[0m\u001b[0;34m\u001b[0m\u001b[0m\n\u001b[1;32m      5\u001b[0m \u001b[0;32mfrom\u001b[0m \u001b[0mML_Pipeline\u001b[0m \u001b[0;32mimport\u001b[0m \u001b[0mutils\u001b[0m\u001b[0;34m\u001b[0m\u001b[0;34m\u001b[0m\u001b[0m\n",
            "\u001b[0;31mModuleNotFoundError\u001b[0m: No module named 'ML_Pipeline'",
            "",
            "\u001b[0;31m---------------------------------------------------------------------------\u001b[0;32m\nNOTE: If your import is failing due to a missing package, you can\nmanually install dependencies using either !pip or !apt.\n\nTo view examples of installing some common dependencies, click the\n\"Open Examples\" button below.\n\u001b[0;31m---------------------------------------------------------------------------\u001b[0m\n"
          ],
          "errorDetails": {
            "actions": [
              {
                "action": "open_url",
                "actionText": "Open Examples",
                "url": "/notebooks/snippets/importing_libraries.ipynb"
              }
            ]
          }
        }
      ]
    },
    {
      "cell_type": "code",
      "execution_count": 26,
      "metadata": {
        "id": "dGhBpcVsiaEY"
      },
      "outputs": [],
      "source": [
        "# Import necessary libraries\n",
        "from flask import Flask, render_template, request\n",
        "from flask_ngrok import run_with_ngrok\n",
        "import spacy\n",
        "from collections import Counter\n",
        "import PyPDF2\n",
        "import en_core_web_sm\n",
        "from google.colab import files\n",
        "import requests\n"
      ]
    },
    {
      "cell_type": "code",
      "source": [
        "# Load spaCy English model\n",
        "nlp = spacy.load(\"en_core_web_sm\")"
      ],
      "metadata": {
        "id": "H35OD4tqmCUA"
      },
      "execution_count": 27,
      "outputs": []
    },
    {
      "cell_type": "code",
      "source": [
        "# Define a list of relevant keywords\n",
        "relevant_keywords = [\n",
        "    # Programming Languages\n",
        "    \"python\", \"java\", \"javascript\", \"c++\", \"c#\", \"ruby\", \"php\", \"typescript\", \"swift\", \"kotlin\", \"go\", \"rust\",\n",
        "\n",
        "    # Web Development\n",
        "    \"html\", \"css\", \"react\", \"angular\", \"vue.js\", \"node.js\", \"django\", \"flask\", \"express\", \"bootstrap\",\n",
        "\n",
        "    # Database Technologies\n",
        "    \"sql\", \"mysql\", \"postgresql\", \"mongodb\", \"oracle\", \"sqlite\", \"nosql\",\n",
        "\n",
        "    # Frameworks and Libraries\n",
        "    \"django\", \"flask\", \"spring\", \"rails\", \"laravel\", \"numpy\", \"pandas\", \"tensorflow\", \"pytorch\",\n",
        "\n",
        "    # Cloud Computing\n",
        "    \"aws\", \"azure\", \"google cloud\", \"docker\", \"kubernetes\", \"terraform\",\n",
        "\n",
        "    # Data Science and Machine Learning\n",
        "    \"data science\", \"machine learning\", \"deep learning\", \"natural language processing\", \"computer vision\",\n",
        "    \"statistics\", \"numpy\", \"pandas\", \"scikit-learn\", \"tensorflow\", \"pytorch\",\n",
        "\n",
        "    # Cybersecurity\n",
        "    \"cybersecurity\", \"penetration testing\", \"firewall\", \"encryption\", \"incident response\", \"threat intelligence\",\n",
        "\n",
        "    # DevOps\n",
        "    \"devops\", \"continuous integration\", \"continuous deployment\", \"jenkins\", \"ansible\", \"docker\", \"kubernetes\",\n",
        "\n",
        "    # Mobile App Development\n",
        "    \"android\", \"ios\", \"react native\", \"flutter\", \"xamarin\",\n",
        "\n",
        "    # Big Data\n",
        "    \"big data\", \"hadoop\", \"spark\", \"hive\", \"apache kafka\", \"apache flink\",\n",
        "\n",
        "    # Networking\n",
        "    \"networking\", \"tcp/ip\", \"dns\", \"http\", \"vpn\", \"load balancing\", \"firewall\",\n",
        "\n",
        "    # Frontend and UI/UX\n",
        "    \"frontend\", \"ui/ux\", \"responsive design\", \"figma\", \"sketch\", \"adobe xd\",\n",
        "\n",
        "    # Version Control\n",
        "    \"git\", \"github\", \"gitlab\", \"bitbucket\",\n",
        "\n",
        "    # Cybersecurity Certifications\n",
        "    \"cissp\", \"ceh\", \"cisa\", \"compTIA security+\", \"owasp\",\n",
        "\n",
        "    # Operating Systems\n",
        "    \"linux\", \"windows\", \"macos\",\n",
        "\n",
        "    # Agile Methodologies\n",
        "    \"agile\", \"scrum\", \"kanban\",\n",
        "\n",
        "    # Other Tech Terms\n",
        "    \"api\", \"restful\", \"graphql\", \"microservices\", \"serverless\", \"scalability\", \"agile\", \"mvc\", \"crud\",\n",
        "]\n",
        "\n",
        "def extract_keywords(text):\n",
        "    doc = nlp(text)\n",
        "    # Extracting keywords from relevant terms\n",
        "    keywords = [token.text.lower() for token in doc if token.is_alpha and not token.is_stop and token.text.lower() in relevant_keywords]\n",
        "    return keywords\n",
        "\n"
      ],
      "metadata": {
        "id": "vqzEqetymJrN"
      },
      "execution_count": 28,
      "outputs": []
    },
    {
      "cell_type": "code",
      "source": [
        "# Function to process a file from the desktop\n",
        "def process_file_from_desktop(file_path):\n",
        "    with open(file_path, 'rb') as file:\n",
        "        content = file.read().decode('utf-8')\n",
        "        return content"
      ],
      "metadata": {
        "id": "a9rR6JMbo7Mq"
      },
      "execution_count": 29,
      "outputs": []
    },
    {
      "cell_type": "code",
      "source": [
        "# Function to process a file from a URL\n",
        "def process_file_from_url(url):\n",
        "    response = requests.get(url)\n",
        "    content = response.text\n",
        "    return content\n"
      ],
      "metadata": {
        "id": "my-arCZvo-u6"
      },
      "execution_count": 30,
      "outputs": []
    },
    {
      "cell_type": "code",
      "source": [
        "# Take input for file type and location\n",
        "file_type = input(\"Enter 'D' for desktop file or 'U' for URL file: \").upper()"
      ],
      "metadata": {
        "colab": {
          "base_uri": "https://localhost:8080/"
        },
        "id": "BhhvXZ8XpBjD",
        "outputId": "b13a8892-494e-4be0-c6e7-d99d3deefe18"
      },
      "execution_count": 34,
      "outputs": [
        {
          "name": "stdout",
          "output_type": "stream",
          "text": [
            "Enter 'D' for desktop file or 'U' for URL file: U\n"
          ]
        }
      ]
    },
    {
      "cell_type": "code",
      "source": [
        "if file_type == 'D':\n",
        "    file_path = input(\"Enter the file path: \")\n",
        "    text_content = process_file_from_desktop(file_path)\n",
        "elif file_type == 'U':\n",
        "    url = input(\"Enter the URL: \")\n",
        "    text_content = process_file_from_url(url)\n",
        "else:\n",
        "    print(\"Invalid input. Please enter 'D' or 'U'.\")"
      ],
      "metadata": {
        "colab": {
          "base_uri": "https://localhost:8080/"
        },
        "id": "hxWNwrtCpF_b",
        "outputId": "510f0c76-667b-4481-ec51-d475ffaed4e0"
      },
      "execution_count": 35,
      "outputs": [
        {
          "name": "stdout",
          "output_type": "stream",
          "text": [
            "Enter the URL: https://www.falmouth.ac.uk/sites/default/files/download/software_engineer_jd_july_15.pdf\n"
          ]
        }
      ]
    },
    {
      "cell_type": "code",
      "source": [
        "# Extract keywords from the text content\n",
        "keywords = extract_keywords(text_content)"
      ],
      "metadata": {
        "id": "GDVxf7GBpufc"
      },
      "execution_count": 36,
      "outputs": []
    },
    {
      "cell_type": "code",
      "source": [
        "# Display the extracted keywords\n",
        "print(\"\\nExtracted Keywords:\")\n",
        "for keyword in keywords:\n",
        "    print(keyword)"
      ],
      "metadata": {
        "colab": {
          "base_uri": "https://localhost:8080/"
        },
        "id": "CSN8kOmlpwLe",
        "outputId": "bb446914-cc28-49b3-8198-5075b456de4b"
      },
      "execution_count": 37,
      "outputs": [
        {
          "output_type": "stream",
          "name": "stdout",
          "text": [
            "\n",
            "Extracted Keywords:\n"
          ]
        }
      ]
    },
    {
      "cell_type": "code",
      "source": [
        "app = Flask(__name__)\n",
        "run_with_ngrok(app)"
      ],
      "metadata": {
        "id": "yIcX7GwEnTs4"
      },
      "execution_count": 23,
      "outputs": []
    },
    {
      "cell_type": "code",
      "source": [
        "@app.route('/')\n",
        "def index():\n",
        "    return render_template('index.html')"
      ],
      "metadata": {
        "id": "vatLBRTFnWK4"
      },
      "execution_count": 24,
      "outputs": []
    },
    {
      "cell_type": "code",
      "source": [
        "@app.route('/upload', methods=['POST'])\n",
        "def upload():\n",
        "    file = request.files['file']\n",
        "\n",
        "    if file:\n",
        "        # Read the content of the file\n",
        "        content = file.read().decode('utf-8')\n",
        "\n",
        "        # Your keyword extraction logic here\n",
        "        keywords = extract_keywords(content)\n",
        "\n",
        "        return render_template('result.html', keywords=keywords)\n",
        "    else:\n",
        "        return \"Error: No file provided.\"\n",
        "\n",
        "if __name__ == '__main__':\n",
        "    app.run()"
      ],
      "metadata": {
        "colab": {
          "base_uri": "https://localhost:8080/"
        },
        "id": "ALN_8g_Hnaky",
        "outputId": "feaf5741-e10c-43dd-aa9d-08a0bd1337a0"
      },
      "execution_count": 25,
      "outputs": [
        {
          "output_type": "stream",
          "name": "stdout",
          "text": [
            " * Serving Flask app '__main__'\n",
            " * Debug mode: off\n"
          ]
        },
        {
          "output_type": "stream",
          "name": "stderr",
          "text": [
            "INFO:werkzeug:\u001b[31m\u001b[1mWARNING: This is a development server. Do not use it in a production deployment. Use a production WSGI server instead.\u001b[0m\n",
            " * Running on http://127.0.0.1:5000\n",
            "INFO:werkzeug:\u001b[33mPress CTRL+C to quit\u001b[0m\n",
            "Exception in thread Thread-10:\n",
            "Traceback (most recent call last):\n",
            "  File \"/usr/local/lib/python3.10/dist-packages/urllib3/connection.py\", line 203, in _new_conn\n",
            "    sock = connection.create_connection(\n",
            "  File \"/usr/local/lib/python3.10/dist-packages/urllib3/util/connection.py\", line 85, in create_connection\n",
            "    raise err\n",
            "  File \"/usr/local/lib/python3.10/dist-packages/urllib3/util/connection.py\", line 73, in create_connection\n",
            "    sock.connect(sa)\n",
            "ConnectionRefusedError: [Errno 111] Connection refused\n",
            "\n",
            "The above exception was the direct cause of the following exception:\n",
            "\n",
            "Traceback (most recent call last):\n",
            "  File \"/usr/local/lib/python3.10/dist-packages/urllib3/connectionpool.py\", line 791, in urlopen\n",
            "    response = self._make_request(\n",
            "  File \"/usr/local/lib/python3.10/dist-packages/urllib3/connectionpool.py\", line 497, in _make_request\n",
            "    conn.request(\n",
            "  File \"/usr/local/lib/python3.10/dist-packages/urllib3/connection.py\", line 395, in request\n",
            "    self.endheaders()\n",
            "  File \"/usr/lib/python3.10/http/client.py\", line 1278, in endheaders\n",
            "    self._send_output(message_body, encode_chunked=encode_chunked)\n",
            "  File \"/usr/lib/python3.10/http/client.py\", line 1038, in _send_output\n",
            "    self.send(msg)\n",
            "  File \"/usr/lib/python3.10/http/client.py\", line 976, in send\n",
            "    self.connect()\n",
            "  File \"/usr/local/lib/python3.10/dist-packages/urllib3/connection.py\", line 243, in connect\n",
            "    self.sock = self._new_conn()\n",
            "  File \"/usr/local/lib/python3.10/dist-packages/urllib3/connection.py\", line 218, in _new_conn\n",
            "    raise NewConnectionError(\n",
            "urllib3.exceptions.NewConnectionError: <urllib3.connection.HTTPConnection object at 0x79f19f3b4c70>: Failed to establish a new connection: [Errno 111] Connection refused\n",
            "\n",
            "The above exception was the direct cause of the following exception:\n",
            "\n",
            "Traceback (most recent call last):\n",
            "  File \"/usr/local/lib/python3.10/dist-packages/requests/adapters.py\", line 486, in send\n",
            "    resp = conn.urlopen(\n",
            "  File \"/usr/local/lib/python3.10/dist-packages/urllib3/connectionpool.py\", line 845, in urlopen\n",
            "    retries = retries.increment(\n",
            "  File \"/usr/local/lib/python3.10/dist-packages/urllib3/util/retry.py\", line 515, in increment\n",
            "    raise MaxRetryError(_pool, url, reason) from reason  # type: ignore[arg-type]\n",
            "urllib3.exceptions.MaxRetryError: HTTPConnectionPool(host='localhost', port=4040): Max retries exceeded with url: /api/tunnels (Caused by NewConnectionError('<urllib3.connection.HTTPConnection object at 0x79f19f3b4c70>: Failed to establish a new connection: [Errno 111] Connection refused'))\n",
            "\n",
            "During handling of the above exception, another exception occurred:\n",
            "\n",
            "Traceback (most recent call last):\n",
            "  File \"/usr/lib/python3.10/threading.py\", line 1016, in _bootstrap_inner\n",
            "    self.run()\n",
            "  File \"/usr/lib/python3.10/threading.py\", line 1378, in run\n",
            "    self.function(*self.args, **self.kwargs)\n",
            "  File \"/usr/local/lib/python3.10/dist-packages/flask_ngrok.py\", line 70, in start_ngrok\n",
            "    ngrok_address = _run_ngrok()\n",
            "  File \"/usr/local/lib/python3.10/dist-packages/flask_ngrok.py\", line 35, in _run_ngrok\n",
            "    tunnel_url = requests.get(localhost_url).text  # Get the tunnel information\n",
            "  File \"/usr/local/lib/python3.10/dist-packages/requests/api.py\", line 73, in get\n",
            "    return request(\"get\", url, params=params, **kwargs)\n",
            "  File \"/usr/local/lib/python3.10/dist-packages/requests/api.py\", line 59, in request\n",
            "    return session.request(method=method, url=url, **kwargs)\n",
            "  File \"/usr/local/lib/python3.10/dist-packages/requests/sessions.py\", line 589, in request\n",
            "    resp = self.send(prep, **send_kwargs)\n",
            "  File \"/usr/local/lib/python3.10/dist-packages/requests/sessions.py\", line 703, in send\n",
            "    r = adapter.send(request, **kwargs)\n",
            "  File \"/usr/local/lib/python3.10/dist-packages/requests/adapters.py\", line 519, in send\n",
            "    raise ConnectionError(e, request=request)\n",
            "requests.exceptions.ConnectionError: HTTPConnectionPool(host='localhost', port=4040): Max retries exceeded with url: /api/tunnels (Caused by NewConnectionError('<urllib3.connection.HTTPConnection object at 0x79f19f3b4c70>: Failed to establish a new connection: [Errno 111] Connection refused'))\n"
          ]
        }
      ]
    },
    {
      "cell_type": "code",
      "source": [
        "source = \"https://www.goldmansachs.com/careers/students/programs/americas/new-associate-program.html\"\n",
        "data = load_data(source)\n"
      ],
      "metadata": {
        "id": "G_E_8IUtjVGJ"
      },
      "execution_count": 10,
      "outputs": []
    }
  ]
}